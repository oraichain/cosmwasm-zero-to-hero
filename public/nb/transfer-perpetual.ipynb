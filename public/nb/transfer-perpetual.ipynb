{
  "cells": [
    {
      "cell_type": "markdown",
      "id": "7ee734ae-dfce-435a-9ff9-0991dc383270",
      "metadata": {},
      "source": [
        "### Init CosmWasm Client"
      ]
    },
    {
      "cell_type": "code",
      "execution_count": null,
      "id": "00119fef-6ecc-4cab-889e-aa58adb81cfb",
      "metadata": {},
      "outputs": [],
      "source": [
        "import { WebsocketClient, Tendermint37Client } from '@cosmjs/tendermint-rpc';\n",
        "\n",
        "wsClient = await Tendermint37Client.create(new WebsocketClient('wss://rpc.orai.io'));\n",
        "\n",
        "contracts = {\n",
        "  engineAddr: 'orai1wrkchuss9wtph4mxrzqksfrulj7hsl89z0048hg8l7hcglse5rxqea2qnr',\n",
        "  insuranceFundAddr: 'orai1l2z27tt0aq2vd2jr0g7vhy8975t6u3sly8pqay9ek3dctgpmkyrqju3dek',\n",
        "  feePoolAddr: 'orai10q37uaq728y93u03dw6jzcxqqc36cu4q08k0c4wmhj4egqch69zstja6xu',\n",
        "  pricefeedAddr: 'orai1s57duq6h0r0q6spfdhujnn695a3e9ka59zvv0yrvx7d80gvaf4hsfkezyr',\n",
        "  oraiusdcVamm: 'orai1hgc4tmvuj6zuagyjpjjdrgwzj6ncgclm0n6rn4vwjg3wdxxyq0fs9k3ps9',\n",
        "  injusdcVamm: 'orai1z36626k3s5k6nl0usn8543v67edn0rpgxnpr58xvr0luvdxu55cs96dv73',\n",
        "  usdcAddr: 'orai15un8msx3n5zf9ahlxmfeqd2kwa5wm0nrpxer304m9nd5q6qq0g6sku5pdd'\n",
        "};"
      ]
    },
    {
      "cell_type": "markdown",
      "id": "75a5056a",
      "metadata": {},
      "source": [
        "### Extract transfer transaction from events"
      ]
    },
    {
      "cell_type": "code",
      "execution_count": null,
      "id": "915b928f",
      "metadata": {},
      "outputs": [],
      "source": [
        "import { buildQuery } from '@cosmjs/tendermint-rpc/build/tendermint37/requests.js';\n",
        "\n",
        "getTransfer = async (query, page = undefined, limit = 10) => {\n",
        "    const result = await wsClient.txSearch({\n",
        "      query: buildQuery(query),\n",
        "      page,\n",
        "      per_page: limit\n",
        "    });\n",
        "    const wasmList = result.txs.flatMap((tx) => tx.result.events).filter((e) => e.type == 'wasm');    \n",
        "    const map = Object.fromEntries(Object.entries(contracts).map(([k, v]) => [v, k]));\n",
        "    const trans = [];\n",
        "    for (const event of wasmList) {\n",
        "    let set = false;\n",
        "    for (const attr of event.attributes) {\n",
        "        const key = atob(attr.key, 'base64');\n",
        "        const value = atob(attr.value, 'base64');\n",
        "\n",
        "        switch (key) {\n",
        "        case 'action':\n",
        "            if (value === 'transfer') {\n",
        "            trans.push({});\n",
        "            set = true;\n",
        "            }\n",
        "            break;\n",
        "        case 'amount':\n",
        "        case 'from':\n",
        "        case 'to':\n",
        "            if (!set) break;\n",
        "            let displayValue = value;\n",
        "            if (key == 'from' || key == 'to') {\n",
        "            displayValue = map[displayValue] || displayValue;\n",
        "            } else {\n",
        "            displayValue = +displayValue;\n",
        "            }\n",
        "            trans[trans.length - 1][key] = displayValue;\n",
        "            break;\n",
        "        }\n",
        "    }\n",
        "    }\n",
        "\n",
        "    return trans;\n",
        "};"
      ]
    },
    {
      "cell_type": "markdown",
      "id": "e13e9e52",
      "metadata": {},
      "source": [
        "List Transfer Transactions"
      ]
    },
    {
      "cell_type": "code",
      "execution_count": null,
      "id": "d670d895",
      "metadata": {},
      "outputs": [],
      "source": [
        "const result = await getTransfer({\n",
        "  tags: [\n",
        "    {\n",
        "      key: 'wasm._contract_address',\n",
        "      value: contracts.engineAddr\n",
        "    },\n",
        "    {\n",
        "      key: 'wasm.action',\n",
        "      value: 'close_position'\n",
        "    },\n",
        "    {\n",
        "      key: 'wasm.vamm',\n",
        "      value: contracts.oraiusdcVamm\n",
        "    }\n",
        "  ]\n",
        "});\n",
        "console.table(result);"
      ]
    }
  ],
  "metadata": {
    "kernelspec": {
      "display_name": "JavaScript",
      "language": "javascript",
      "name": "jslab"
    },
    "language_info": {
      "file_extension": ".js",
      "mimetype": "text/javascript",
      "name": "javascript",
      "version": ""
    }
  },
  "nbformat": 4,
  "nbformat_minor": 5
}
