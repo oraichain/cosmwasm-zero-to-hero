{
  "cells": [
    {
      "cell_type": "markdown",
      "id": "7ee734ae-dfce-435a-9ff9-0991dc383270",
      "metadata": {},
      "source": [
        "### Import cw-simulate module and create new instance"
      ]
    },
    {
      "cell_type": "code",
      "execution_count": null,
      "id": "00119fef-6ecc-4cab-889e-aa58adb81cfb",
      "metadata": {},
      "outputs": [],
      "source": [
        "import { SimulateCosmWasmClient } from \"@oraichain/cw-simulate\";\n",
        "import { SigningCosmWasmClient } from \"@cosmjs/cosmwasm-stargate\"\n",
        "import { coins, GasPrice } from '@cosmjs/stargate';\n",
        "\n",
        "\n",
        "if(simulate) {\n",
        "  senderAddress = \"orai14vcw5qk0tdvknpa38wz46js5g7vrvut8lk0lk6\";\n",
        "  client = new SimulateCosmWasmClient({\n",
        "    chainId: \"Oraichain\",\n",
        "    bech32Prefix: \"orai\",\n",
        "    metering: true\n",
        "  });\n",
        "  client.app.bank.setBalance(senderAddress, coins('10000000', 'orai'));\n",
        "} else {  \n",
        "  await keplr.enable('Oraichain-testnet');\n",
        "  const signer = await keplr.getOfflineSignerAuto('Oraichain-testnet');\n",
        "  senderAddress = (await signer.getAccounts())[0].address;\n",
        "  client = await SigningCosmWasmClient.connectWithSigner('https://testnet.rpc.orai.io', signer, {  \n",
        "      gasPrice: GasPrice.fromString('0.002orai')  \n",
        "  });\n",
        "}\n",
        "\n",
        "console.log(await client.getBalance(senderAddress, 'orai'));"
      ]
    },
    {
      "cell_type": "markdown",
      "id": "a8b7a0c2-89c6-4e5e-bbba-b38d00a8ae63",
      "metadata": {},
      "source": [
        "### Deploy contract"
      ]
    },
    {
      "cell_type": "code",
      "execution_count": null,
      "id": "f0d82dac-02b5-4292-bc26-079461701c41",
      "metadata": {},
      "outputs": [],
      "source": [
        "import { CwStarterClient } from \"./contracts\";\n",
        "\n",
        "const wasmCode = new Uint8Array(await fetch(\"/wasm/cw-starter.wasm\").then((res) => res.arrayBuffer()));\n",
        "const { codeId } = await client.upload(senderAddress, wasmCode, \"auto\");\n",
        "const { contractAddress } = await client.instantiate(\n",
        "  senderAddress,\n",
        "  codeId,\n",
        "  { \n",
        "    admin: senderAddress   \n",
        "  },\n",
        "  \"cw-starter\",\n",
        "  \"auto\"\n",
        ");\n",
        "console.log('contractAddress: ' + contractAddress);\n",
        "\n",
        "cwStarter = new CwStarterClient(client, senderAddress, contractAddress);"
      ]
    },
    {
      "cell_type": "markdown",
      "id": "66f53721-f427-4a51-8154-0ca91efc5be7",
      "metadata": {},
      "source": [
        "### Test execute create poll valid"
      ]
    },
    {
      "cell_type": "code",
      "execution_count": null,
      "id": "32a6bf55-e7b8-4535-9a84-fa19baf968b9",
      "metadata": {},
      "outputs": [],
      "source": [
        "res = await cwStarter.createPoll({\n",
        "    pollId: 'some_id',\n",
        "    question: \"What's your favourite Cosmos coin?\",\n",
        "    options: ['Cosmos Hub', 'Juno', 'Osmosis']\n",
        "});\n",
        "\n",
        "console.log(res);"
      ]
    },
    {
      "cell_type": "markdown",
      "id": "c8639d61",
      "metadata": {},
      "source": [
        "### Test execute create poll invalid"
      ]
    },
    {
      "cell_type": "code",
      "execution_count": null,
      "id": "86228bad",
      "metadata": {},
      "outputs": [],
      "source": [
        "res = await cwStarter.createPoll({\n",
        "    pollId: 'some_id',\n",
        "    question: \"What's your favourite Cosmos coin?\",\n",
        "    options: ['1', '2', '3', '4', '5', '6', '7', '8', '9', '10', '11']\n",
        "});\n",
        "\n",
        "console.log(res);"
      ]
    },
    {
      "cell_type": "markdown",
      "id": "98ad0d0e",
      "metadata": {},
      "source": [
        "### Test execute vote valid"
      ]
    },
    {
      "cell_type": "code",
      "execution_count": null,
      "id": "923c8f22",
      "metadata": {},
      "outputs": [],
      "source": [
        "// Create the vote, first time voting\n",
        "res = await cwStarter.vote({\n",
        "    pollId: 'some_id',\n",
        "    vote: 'Juno'\n",
        "});\n",
        "  \n",
        "  // Change the vote\n",
        "  res = await cwStarter.vote({\n",
        "    pollId: 'some_id',\n",
        "    vote: 'Osmosis'\n",
        "});"
      ]
    },
    {
      "cell_type": "markdown",
      "id": "2eb994cc",
      "metadata": {},
      "source": [
        "### Test execute vote invalid"
      ]
    },
    {
      "cell_type": "code",
      "execution_count": null,
      "id": "ade394d3",
      "metadata": {},
      "outputs": [],
      "source": [
        "// Vote on a now existing poll but the option \"DVPN\" does not exist\n",
        "res = await cwStarter.vote({\n",
        "    pollId: 'some_id',\n",
        "    vote: 'DVPN'\n",
        "});\n",
        "\n",
        "console.log(res)"
      ]
    },
    {
      "cell_type": "markdown",
      "id": "997219dc",
      "metadata": {},
      "source": [
        "### Test query all polls"
      ]
    },
    {
      "cell_type": "code",
      "execution_count": null,
      "id": "4869b060",
      "metadata": {},
      "outputs": [],
      "source": [
        "// Create a second poll\n",
        "await cwStarter.createPoll({\n",
        "    pollId: 'some_id_2',\n",
        "    question: \"What's your colour?\",\n",
        "    options: ['Red', 'Green', 'Blue']\n",
        "});\n",
        "  \n",
        "// Query\n",
        "res = await cwStarter.allPolls();\n",
        "console.log(res);"
      ]
    },
    {
      "cell_type": "markdown",
      "id": "97d736b7",
      "metadata": {},
      "source": [
        "### Test query poll"
      ]
    },
    {
      "cell_type": "code",
      "execution_count": null,
      "id": "11a012af",
      "metadata": {},
      "outputs": [],
      "source": [
        "// Query for the poll that exists\n",
        "res = await cwStarter.poll({\n",
        "    pollId: 'some_id'\n",
        "});\n",
        "\n",
        "console.log(res);\n",
        "\n",
        "// Query for the poll that does not exists\n",
        "res = await cwStarter.poll({\n",
        "    pollId: 'some_id_not_exist'\n",
        "});\n",
        "  \n",
        "// expect not exist\n",
        "console.log(res)"
      ]
    },
    {
      "cell_type": "markdown",
      "id": "6dd29642",
      "metadata": {},
      "source": [
        "### Test query vote"
      ]
    },
    {
      "cell_type": "code",
      "execution_count": null,
      "id": "737eb117",
      "metadata": {},
      "outputs": [],
      "source": [
        "// Query for a vote that exists\n",
        "res = await cwStarter.getVote({\n",
        "    pollId: 'some_id',\n",
        "    address: senderAddress\n",
        "});\n",
        "  \n",
        "// Expect the vote to exist\n",
        "console.log(res);\n",
        "  \n",
        "// Query for a vote that does not exists\n",
        "  \n",
        "res = await cwStarter.getVote({\n",
        "    pollId: 'some_id_not_exist',\n",
        "    address: senderAddress\n",
        "});\n",
        "\n",
        "console.log(res)\n",
        "// Expect the vote to not exist"
      ]
    }
  ],
  "metadata": {
    "kernelspec": {
      "display_name": "JavaScript",
      "language": "javascript",
      "name": "jslab"
    },
    "language_info": {
      "file_extension": ".js",
      "mimetype": "text/javascript",
      "name": "javascript",
      "version": ""
    }
  },
  "nbformat": 4,
  "nbformat_minor": 5
}
