{
 "cells": [
  {
   "cell_type": "markdown",
   "metadata": {},
   "source": [
    "## Connect to mainnet"
   ]
  },
  {
   "cell_type": "code",
   "execution_count": null,
   "metadata": {
    "vscode": {
     "languageId": "javascript"
    }
   },
   "outputs": [],
   "source": [
    "import { SigningCosmWasmClient } from \"@cosmjs/cosmwasm-stargate\"\n",
    "import { GasPrice } from '@cosmjs/stargate';\n",
    "\n",
    "await keplr.enable('Oraichain');\n",
    "const signer = await keplr.getOfflineSignerAuto('Oraichain');\n",
    "senderAddress = (await signer.getAccounts())[0].address;\n",
    "client = await SigningCosmWasmClient.connectWithSigner('https://rpc.orai.io', signer, {  \n",
    "    gasPrice: GasPrice.fromString('0.001orai')  \n",
    "});\n",
    "\n",
    "\n",
    "console.log(await client.getBalance(senderAddress, 'orai'));"
   ]
  },
  {
   "cell_type": "markdown",
   "metadata": {},
   "source": [
    "## Run your custom code"
   ]
  },
  {
   "cell_type": "code",
   "execution_count": null,
   "metadata": {
    "vscode": {
     "languageId": "javascript"
    }
   },
   "outputs": [],
   "source": [
    "await client.updateAdmin(\n",
    "    senderAddress,\n",
    "    contractAddr,\n",
    "    newAdmin,\n",
    "    \"auto\"    \n",
    ");"
   ]
  }
 ],
 "metadata": {
  "language_info": {
   "name": "python"
  }
 },
 "nbformat": 4,
 "nbformat_minor": 2
}
