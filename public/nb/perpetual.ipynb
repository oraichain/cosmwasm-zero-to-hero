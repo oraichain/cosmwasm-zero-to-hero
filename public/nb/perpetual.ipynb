{
  "cells": [
    {
      "cell_type": "markdown",
      "id": "7ee734ae-dfce-435a-9ff9-0991dc383270",
      "metadata": {},
      "source": [
        "### Init CosmWasm Client"
      ]
    },
    {
      "cell_type": "code",
      "execution_count": null,
      "id": "00119fef-6ecc-4cab-889e-aa58adb81cfb",
      "metadata": {},
      "outputs": [],
      "source": [
        "import { SimulateCosmWasmClient } from \"@oraichain/cw-simulate\";\n",
        "\n",
        "senderAddress = \"orai1fs25usz65tsryf0f8d5cpfmqgr0xwup4kjqpa0\";\n",
        "client = new SimulateCosmWasmClient({\n",
        "  chainId: \"Oraichain\",\n",
        "  bech32Prefix: \"orai\",\n",
        "  metering: true\n",
        "});"
      ]
    },
    {
      "cell_type": "markdown",
      "id": "a8b7a0c2-89c6-4e5e-bbba-b38d00a8ae63",
      "metadata": {},
      "source": [
        "### Load smart contract with state from running blockchain"
      ]
    },
    {
      "cell_type": "code",
      "execution_count": null,
      "id": "f0d82dac-02b5-4292-bc26-079461701c41",
      "metadata": {},
      "outputs": [],
      "source": [
        "import { BufferCollection, SortedMap, compare } from \"@oraichain/cw-simulate\";\n",
        "\n",
        "const loadState = async(address, label) => {\n",
        "  const wasmCode = new Uint8Array(await fetch(`/wasm/${address}`).then((res) => res.arrayBuffer()));\n",
        "  const { codeId } = await client.upload(senderAddress, wasmCode, \"auto\");\n",
        "\n",
        "  const buffer = new Uint8Array(await fetch(`/wasm/${address}.state`).then((res) => res.arrayBuffer()));\n",
        "  const state = SortedMap.rawPack(new BufferCollection(buffer), compare);  \n",
        "  await client.loadContract(address,{\n",
        "      codeId,\n",
        "      admin: senderAddress,\n",
        "      label,\n",
        "      creator: senderAddress,\n",
        "      created: 1\n",
        "    },\n",
        "    state\n",
        "  );\n",
        "};\n",
        "\n",
        "contracts = {\n",
        "  engineAddr: 'orai1wrkchuss9wtph4mxrzqksfrulj7hsl89z0048hg8l7hcglse5rxqea2qnr',\n",
        "  insuranceFundAddr: 'orai1l2z27tt0aq2vd2jr0g7vhy8975t6u3sly8pqay9ek3dctgpmkyrqju3dek',\n",
        "  feePoolAddr: 'orai10q37uaq728y93u03dw6jzcxqqc36cu4q08k0c4wmhj4egqch69zstja6xu',\n",
        "  pricefeedAddr: 'orai1s57duq6h0r0q6spfdhujnn695a3e9ka59zvv0yrvx7d80gvaf4hsfkezyr',\n",
        "  injusdcVamm: 'orai1z36626k3s5k6nl0usn8543v67edn0rpgxnpr58xvr0luvdxu55cs96dv73',\n",
        "  usdcAddr: 'orai15un8msx3n5zf9ahlxmfeqd2kwa5wm0nrpxer304m9nd5q6qq0g6sku5pdd'\n",
        "};\n",
        "\n",
        "await Promise.all(Object.entries(contracts).map(([label, contractAddress]) => loadState(contractAddress, label)));"
      ]
    },
    {
      "cell_type": "markdown",
      "id": "66f53721-f427-4a51-8154-0ca91efc5be7",
      "metadata": {},
      "source": [
        "### Test execute change oracle price"
      ]
    },
    {
      "cell_type": "code",
      "execution_count": null,
      "id": "32a6bf55-e7b8-4535-9a84-fa19baf968b9",
      "metadata": {},
      "outputs": [],
      "source": [
        "import { MarginedEngineClient, MarginedPricefeedClient } from '@oraichain/oraimargin-contracts-sdk';\n",
        "\n",
        "const engineContract = new MarginedEngineClient(client, senderAddress, contracts.engineAddr);\n",
        "const priceFeedContract = new MarginedPricefeedClient(client, 'orai1ek2243955krr3enky8jq8y8vhh3p63y5wjzs4j', contracts.pricefeedAddr);\n",
        "\n",
        "const printPnL = async () => {\n",
        "  let startAfter;\n",
        "  let ret = [];\n",
        "  while (true) {\n",
        "    const positions = await engineContract.positions({ filter: 'none', vamm: contracts.injusdcVamm, startAfter });\n",
        "    if (!positions.length) break;\n",
        "    startAfter = positions[positions.length - 1].position_id;\n",
        "    for (const position of positions) {\n",
        "      const pos = await engineContract.positionWithFundingPayment({ positionId: position.position_id, vamm: contracts.injusdcVamm });\n",
        "      const pnl = await engineContract.unrealizedPnl({ positionId: position.position_id, calcOption: 'oracle', vamm: contracts.injusdcVamm });\n",
        "      pnl.trader = pos.trader;\n",
        "      ret.push(pnl);\n",
        "    }\n",
        "  }\n",
        "  console.table(ret);\n",
        "};\n",
        "\n",
        "console.log('oracle price', await priceFeedContract.getPrice({ key: 'INJ' }));\n",
        "await printPnL();\n",
        "const currentBlockTime = (client.app.time / 1e9) >> 0;\n",
        "await priceFeedContract.appendPrice({ key: 'INJ', price: '10000000', timestamp: currentBlockTime });\n",
        "await engineContract.payFunding({ vamm: contracts.injusdcVamm });\n",
        "console.log('oracle price', await priceFeedContract.getPrice({ key: 'INJ' }));\n",
        "await printPnL();"
      ]
    }
  ],
  "metadata": {
    "kernelspec": {
      "display_name": "JavaScript",
      "language": "javascript",
      "name": "jslab"
    },
    "language_info": {
      "file_extension": ".js",
      "mimetype": "text/javascript",
      "name": "javascript",
      "version": ""
    }
  },
  "nbformat": 4,
  "nbformat_minor": 5
}
