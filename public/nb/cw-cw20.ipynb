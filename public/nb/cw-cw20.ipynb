{
  "cells": [
    {
      "cell_type": "markdown",
      "id": "7ee734ae-dfce-435a-9ff9-0991dc383270",
      "metadata": {},
      "source": [
        "### Init CosmWasm Client"
      ]
    },
    {
      "cell_type": "code",
      "execution_count": null,
      "id": "00119fef-6ecc-4cab-889e-aa58adb81cfb",
      "metadata": {},
      "outputs": [],
      "source": [
        "import { SimulateCosmWasmClient } from \"@oraichain/cw-simulate\";\n",
        "import { SigningCosmWasmClient } from \"@cosmjs/cosmwasm-stargate\"\n",
        "import { coins, GasPrice } from '@cosmjs/stargate';\n",
        "\n",
        "\n",
        "if(simulate) {\n",
        "  senderAddress = \"orai14vcw5qk0tdvknpa38wz46js5g7vrvut8lk0lk6\";\n",
        "  client = new SimulateCosmWasmClient({\n",
        "    chainId: \"Oraichain\",\n",
        "    bech32Prefix: \"orai\",\n",
        "    metering: true\n",
        "  });\n",
        "  client.app.bank.setBalance(senderAddress, coins('10000000', 'orai'));\n",
        "} else {  \n",
        "  await keplr.enable('Oraichain-testnet');\n",
        "  const signer = await keplr.getOfflineSignerAuto('Oraichain-testnet');\n",
        "  senderAddress = (await signer.getAccounts())[0].address;\n",
        "  client = await SigningCosmWasmClient.connectWithSigner('https://testnet.rpc.orai.io', signer, {  \n",
        "      gasPrice: GasPrice.fromString('0.002orai')  \n",
        "  });\n",
        "}\n",
        "\n",
        "console.log(await client.getBalance(senderAddress, 'orai'));"
      ]
    },
    {
      "cell_type": "markdown",
      "id": "a8b7a0c2-89c6-4e5e-bbba-b38d00a8ae63",
      "metadata": {},
      "source": [
        "### Deploy contract on SimulateCosmwasmClient"
      ]
    },
    {
      "cell_type": "code",
      "execution_count": null,
      "id": "f0d82dac-02b5-4292-bc26-079461701c41",
      "metadata": {},
      "outputs": [],
      "source": [
        "import { Cw20BaseClient } from \"@oraichain/common-contracts-sdk\";\n",
        "\n",
        "const wasmCode = new Uint8Array(await fetch(\"/wasm/cw20-base.wasm\").then((res) => res.arrayBuffer()));\n",
        "const { codeId } = await client.upload(senderAddress, wasmCode, \"auto\");\n",
        "const { contractAddress } = await client.instantiate(\n",
        "  senderAddress,\n",
        "  codeId,\n",
        "  {\n",
        "    decimals: 6,\n",
        "    symbol: \"CVT\",\n",
        "    name: \"cosmoverse token\",\n",
        "    mint: { minter: senderAddress },\n",
        "    initial_balances: [{ address: senderAddress, amount: \"1000000000\" }]\n",
        "  },\n",
        "  \"cw20 token\",\n",
        "  \"auto\"\n",
        ");\n",
        "\n",
        "cw20Contract = new Cw20BaseClient(client, senderAddress, contractAddress);\n",
        "\n",
        "console.log(await cw20Contract.tokenInfo());"
      ]
    },
    {
      "cell_type": "markdown",
      "id": "66f53721-f427-4a51-8154-0ca91efc5be7",
      "metadata": {},
      "source": [
        "### Execute contract with gas metering"
      ]
    },
    {
      "cell_type": "code",
      "execution_count": null,
      "id": "32a6bf55-e7b8-4535-9a84-fa19baf968b9",
      "metadata": {},
      "outputs": [],
      "source": [
        "const { gasUsed } = await cw20Contract.transfer({amount: '1000000', recipient: 'orai1ur2vsjrjarygawpdwtqteaazfchvw4fg6uql76'});\n",
        "console.log(`Transfer token required gas: ${gasUsed}`);\n",
        "\n",
        "console.log(await cw20Contract.balance({address:'orai1ur2vsjrjarygawpdwtqteaazfchvw4fg6uql76'}));"
      ]
    }
  ],
  "metadata": {
    "kernelspec": {
      "display_name": "JavaScript",
      "language": "javascript",
      "name": "jslab"
    },
    "language_info": {
      "file_extension": ".js",
      "mimetype": "text/javascript",
      "name": "javascript",
      "version": ""
    }
  },
  "nbformat": 4,
  "nbformat_minor": 5
}
